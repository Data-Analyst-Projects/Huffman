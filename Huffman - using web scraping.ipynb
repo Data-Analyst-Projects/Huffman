{
 "cells": [
  {
   "cell_type": "code",
   "execution_count": null,
   "metadata": {},
   "outputs": [],
   "source": [
    "#Those packeges need to be installed first before web scrapping\n",
    "\n",
    "# conda install requests\n",
    "# conda install lxml\n",
    "# conda install bs4"
   ]
  },
  {
   "cell_type": "code",
   "execution_count": 85,
   "metadata": {},
   "outputs": [
    {
     "name": "stdout",
     "output_type": "stream",
     "text": [
      "27\n"
     ]
    }
   ],
   "source": [
    "## We use web scraping to get the information from the web\n",
    "import requests\n",
    "import bs4\n",
    "\n",
    "res = requests.get(\"https://www.sttmedia.com/characterfrequency-hebrew\")\n",
    "soup = bs4.BeautifulSoup(res.text,\"lxml\")\n",
    "\n",
    "# 2 -> the letter\n",
    "#3-> the frequency\n",
    "\n",
    "letterDict = {}\n",
    "\n",
    "for i in range(2,len(soup.select(\"td\"))-171,2):\n",
    "    letterDict[soup.select(\"td\")[i].getText()] = float(''.join(e.replace(\" \",\"\") for e in soup.select(\"td\")[i+1].getText()[0:5]))\n",
    "print(len(letterDict))"
   ]
  },
  {
   "cell_type": "code",
   "execution_count": 79,
   "metadata": {},
   "outputs": [],
   "source": [
    "# if you want to run without web scraping you can use this line instead\n",
    "letterDict = {'א': 6.34, 'ב': 4.74, 'ג': 1.3, 'ד': 2.59, 'ה': 10.87, 'ו': 10.38, 'ז': 1.33, 'ח': 2.48, 'ט': 1.24, 'י': 11.06, 'ך': 0.81, 'כ': 2.7, 'ל': 7.39, 'ם': 3.03, 'מ': 4.59, 'ן': 1.1, 'נ': 2.86, 'ס': 1.48, 'ע': 3.23, 'ף': 0.27, 'פ': 1.69, 'ץ': 0.12, 'צ': 1.24, 'ק': 2.14, 'ר': 5.61, 'ש': 4.41, 'ת': 5.01}"
   ]
  },
  {
   "cell_type": "code",
   "execution_count": 80,
   "metadata": {},
   "outputs": [],
   "source": [
    "class Node:\n",
    "    \n",
    "    def __init__(self, letter , freq , left=None , right = None):\n",
    "        self.letter = letter\n",
    "        self.freq = freq\n",
    "        self.left = left\n",
    "        self.right = right\n",
    "        self.sign = \"\"\n",
    " \n",
    "    \n",
    "    def __str__(self):\n",
    "        return (\"Letter: \" +self.letter + \"\\nFreq: \" +str(self.freq) + \"\\nSign: \" + self.sign )"
   ]
  },
  {
   "cell_type": "code",
   "execution_count": 83,
   "metadata": {},
   "outputs": [],
   "source": [
    "class huffman ():\n",
    "    def __init__(self,letterDict):\n",
    "        self.oldDictionary = letterDict\n",
    "        self.nodes = []\n",
    "        self.dictionaryEncode = {}\n",
    "        \n",
    "        \n",
    "        \n",
    "    def createEncode(self, node,val=''):\n",
    "        # huffman code for current node\n",
    "        newVal = val + str(node.sign)\n",
    "\n",
    "        # if node is not an edge node\n",
    "        # then traverse inside it\n",
    "        if(node.left):\n",
    "            self.createEncode(node.left ,newVal)\n",
    "        if(node.right):\n",
    "            self.createEncode(node.right, newVal)\n",
    "\n",
    "            # if node is edge node then\n",
    "            # display its huffman code\n",
    "        if(not node.left and not node.right):\n",
    "            self.dictionaryEncode[node.letter] = newVal\n",
    "\n",
    "    def createNodeList(self):\n",
    "        self.nodes = []\n",
    "        for i in self.oldDictionary:\n",
    "            self.nodes.append(Node(i,self.oldDictionary[i]))\n",
    "        \n",
    "        while len(self.nodes) > 1:\n",
    "            self.nodes =sorted(self.nodes,key = lambda x: x.freq)\n",
    "\n",
    "            left = self.nodes[0]\n",
    "            right = self.nodes[1]\n",
    "\n",
    "            left.sign = \"0\"\n",
    "            right.sign = \"1\"\n",
    "\n",
    "            newNode = Node(left.letter + right.letter, left.freq + right.freq,left,right)\n",
    "\n",
    "            self.nodes.append(newNode)\n",
    "            self.nodes.remove(left)\n",
    "            self.nodes.remove(right)\n",
    "    \n",
    "    def computeEntropyOnName(self,name):\n",
    "        entropyDict = {}\n",
    "        weight = 1/len(name)\n",
    "        for i in name:\n",
    "            if i in entropyDict:\n",
    "                entropyDict[i] +=weight\n",
    "            else:\n",
    "                entropyDict[i] = weight\n",
    "        entropy = 0\n",
    "        for i in name:\n",
    "            entropy += (-1 * entropyDict[i]*np.log2(entropyDict[i]))\n",
    "        return entropy\n",
    "    \n",
    "    def computeEntropyBaseInformation(self,name):\n",
    "        entropy = 0\n",
    "        for i in self.oldDictionary:\n",
    "            pi = (float(self.oldDictionary[i])/100)\n",
    "            entropy += (-1* pi* np.log2(pi))\n",
    "        return entropy"
   ]
  },
  {
   "cell_type": "code",
   "execution_count": 84,
   "metadata": {},
   "outputs": [
    {
     "name": "stdout",
     "output_type": "stream",
     "text": [
      "enter your name: דולב\n",
      "The binary string of your name is (left to right): 00010001110011110\n",
      "The entropy based on the name is: 2.0\n",
      "The entropy based on the internet information is: 4.290292128616209\n"
     ]
    }
   ],
   "source": [
    "def main():\n",
    "    h = huffman(letterDict)\n",
    "    h.createNodeList()\n",
    "    h.createEncode(h.nodes[0])\n",
    "    valid = True\n",
    "    name = input(\"enter your name: \")\n",
    "    binaryString = \"\"\n",
    "    for i in name:\n",
    "        if i not in h.dictionaryEncode:\n",
    "            print(\"error in name entered\")\n",
    "            valid = False\n",
    "            break\n",
    "        binaryString += h.dictionaryEncode[i]\n",
    "    \n",
    "    if valid:\n",
    "        print(\"The binary string of your name is (left to right): \" + binaryString)\n",
    "        print(\"The entropy based on the name is: \" + str(h.computeEntropyOnName(name)))\n",
    "        print(\"The entropy based on the internet information is: \" + str(h.computeEntropyBaseInformation(name)))\n",
    "    \n",
    "if __name__ == \"__main__\":\n",
    "    main()"
   ]
  }
 ],
 "metadata": {
  "kernelspec": {
   "display_name": "Python 3",
   "language": "python",
   "name": "python3"
  },
  "language_info": {
   "codemirror_mode": {
    "name": "ipython",
    "version": 3
   },
   "file_extension": ".py",
   "mimetype": "text/x-python",
   "name": "python",
   "nbconvert_exporter": "python",
   "pygments_lexer": "ipython3",
   "version": "3.8.3"
  }
 },
 "nbformat": 4,
 "nbformat_minor": 4
}
